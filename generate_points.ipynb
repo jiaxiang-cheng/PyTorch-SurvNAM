{
 "cells": [
  {
   "cell_type": "markdown",
   "source": [
    "# Loading GBSG2 to Generate Points for Explained Point\n",
    "This is for reproduction of SurvNAM. Generated points are needed for each data point, which is called explained point.\n",
    "We load the GBSG2 dataset as an example to reproduce the work.\n",
    "\n",
    "## Loading Packages"
   ],
   "metadata": {
    "collapsed": false,
    "pycharm": {
     "name": "#%% md\n"
    }
   }
  },
  {
   "cell_type": "code",
   "execution_count": 26,
   "metadata": {
    "collapsed": true,
    "pycharm": {
     "name": "#%%\n"
    }
   },
   "outputs": [],
   "source": [
    "import pandas as pd\n",
    "import matplotlib.pyplot as plt\n",
    "import numpy as np\n",
    "# %matplotlib inline\n",
    "\n",
    "from sklearn.model_selection import train_test_split\n",
    "from sklearn.preprocessing import OrdinalEncoder\n",
    "\n",
    "from sksurv.datasets import load_gbsg2\n",
    "from sksurv.preprocessing import OneHotEncoder\n",
    "from sksurv.ensemble import RandomSurvivalForest"
   ]
  },
  {
   "cell_type": "markdown",
   "source": [
    "## Loading GBSG2\n",
    "\n",
    "The dataset is loaded as data frame and transformed into numeric values."
   ],
   "metadata": {
    "collapsed": false,
    "pycharm": {
     "name": "#%% md\n"
    }
   }
  },
  {
   "cell_type": "code",
   "execution_count": 27,
   "outputs": [],
   "source": [
    "# First, we need to load the data and transform it into numeric values.\n",
    "X, y = load_gbsg2()\n",
    "\n",
    "grade_str = X.loc[:, \"tgrade\"].astype(object).values[:, np.newaxis]\n",
    "grade_num = OrdinalEncoder(categories=[[\"I\", \"II\", \"III\"]]).fit_transform(grade_str)\n",
    "\n",
    "X_no_grade = X.drop(\"tgrade\", axis=1)\n",
    "Xt = OneHotEncoder().fit_transform(X_no_grade)\n",
    "Xt.loc[:, \"tgrade\"] = grade_num"
   ],
   "metadata": {
    "collapsed": false,
    "pycharm": {
     "name": "#%%\n"
    }
   }
  },
  {
   "cell_type": "markdown",
   "source": [
    "Next, the data is split into 75% for training and 25% for testing, so we can determine how well our model generalizes."
   ],
   "metadata": {
    "collapsed": false,
    "pycharm": {
     "name": "#%% md\n"
    }
   }
  },
  {
   "cell_type": "code",
   "execution_count": 28,
   "outputs": [
    {
     "name": "stdout",
     "output_type": "stream",
     "text": [
      "      age  estrec  horTh=yes  menostat=Post  pnodes  progrec  tsize  tgrade\n",
      "292  64.0    71.0        1.0            1.0     1.0    340.0   15.0     1.0\n",
      "46   65.0     6.0        0.0            1.0     1.0      6.0   20.0     1.0\n",
      "447  52.0     5.0        0.0            1.0     1.0      8.0   35.0     2.0\n"
     ]
    }
   ],
   "source": [
    "random_state = 20\n",
    "X_train, X_test, y_train, y_test = train_test_split(Xt, y, test_size=0.25, random_state=random_state)\n",
    "\n",
    "print(X_train.head(3))"
   ],
   "metadata": {
    "collapsed": false,
    "pycharm": {
     "name": "#%%\n"
    }
   }
  },
  {
   "cell_type": "markdown",
   "source": [
    "## Training Random Survival Forests\n",
    "Several split criterion have been proposed in the past, but the most widespread one is based on the\n",
    "log-rank test, which you probably know from comparing survival curves among two or more groups. Using the training\n",
    "data, we fit a Random Survival Forest comprising 1000 trees."
   ],
   "metadata": {
    "collapsed": false
   }
  },
  {
   "cell_type": "code",
   "execution_count": 29,
   "outputs": [
    {
     "name": "stdout",
     "output_type": "stream",
     "text": [
      "0.6759696016771488\n"
     ]
    }
   ],
   "source": [
    "rsf = RandomSurvivalForest(n_estimators=1000,\n",
    "                           min_samples_split=10,\n",
    "                           min_samples_leaf=15,\n",
    "                           max_features=\"sqrt\",\n",
    "                           n_jobs=-1,\n",
    "                           random_state=random_state)\n",
    "rsf.fit(X_train, y_train)\n",
    "\n",
    "# We can check how well the model performs by evaluating it on the test data.\n",
    "print(rsf.score(X_test, y_test))\n"
   ],
   "metadata": {
    "collapsed": false,
    "pycharm": {
     "name": "#%%\n"
    }
   }
  },
  {
   "cell_type": "markdown",
   "source": [
    "## Predicting\n",
    "For prediction, a sample is dropped down each tree in the forest until it reaches a terminal node. Data\n",
    "in each terminal is used to non-parametrically estimate the survival and cumulative hazard function using the\n",
    "Kaplan-Meier and Nelson-Aalen estimator, respectively. In addition, a risk score can be computed that represents\n",
    "the expected number of events for one particular terminal node. The ensemble prediction is simply the average\n",
    "across all trees in the forest."
   ],
   "metadata": {
    "collapsed": false,
    "pycharm": {
     "name": "#%% md\n"
    }
   }
  },
  {
   "cell_type": "code",
   "execution_count": 30,
   "outputs": [
    {
     "data": {
      "text/plain": "0     91.477609\n1    102.897552\n2     75.883786\n3    170.502092\n4    171.210066\n5    148.691835\ndtype: float64"
     },
     "execution_count": 30,
     "metadata": {},
     "output_type": "execute_result"
    }
   ],
   "source": [
    "# Let’s first select a couple of patients from the test data according to the number of positive lymph nodes and age.\n",
    "X_test_sorted = X_test.sort_values(by=[\"pnodes\", \"age\"])\n",
    "X_test_sel = pd.concat((X_test_sorted.head(3), X_test_sorted.tail(3)))\n",
    "\n",
    "# The predicted risk scores indicate that risk for the last three patients is quite a bit higher than that of the\n",
    "# first three patients.\n",
    "pd.Series(rsf.predict(X_test_sel))"
   ],
   "metadata": {
    "collapsed": false,
    "pycharm": {
     "name": "#%%\n"
    }
   }
  },
  {
   "cell_type": "markdown",
   "source": [
    "We can have a more detailed insight by considering the predicted survival function. It shows that the biggest\n",
    "difference occurs roughly within the first 750 days."
   ],
   "metadata": {
    "collapsed": false,
    "pycharm": {
     "name": "#%% md\n"
    }
   }
  },
  {
   "cell_type": "code",
   "execution_count": 31,
   "outputs": [
    {
     "data": {
      "text/plain": "<Figure size 432x288 with 1 Axes>",
      "image/png": "[encoded data removed]"
     },
     "metadata": {
      "needs_background": "light"
     },
     "output_type": "display_data"
    }
   ],
   "source": [
    "surv = rsf.predict_survival_function(X_test_sel, return_array=True)\n",
    "\n",
    "for i, s in enumerate(surv):\n",
    "    plt.step(rsf.event_times_, s, where=\"post\", label=str(i))\n",
    "\n",
    "plt.ylabel(\"Survival probability\")\n",
    "plt.xlabel(\"Time in days\")\n",
    "plt.legend()\n",
    "plt.grid(True)\n",
    "plt.show()"
   ],
   "metadata": {
    "collapsed": false,
    "pycharm": {
     "name": "#%%\n"
    }
   }
  },
  {
   "cell_type": "markdown",
   "source": [
    "Alternatively, we can also plot the predicted cumulative hazard function."
   ],
   "metadata": {
    "collapsed": false,
    "pycharm": {
     "name": "#%% md\n"
    }
   }
  },
  {
   "cell_type": "code",
   "execution_count": 32,
   "outputs": [
    {
     "data": {
      "text/plain": "<Figure size 432x288 with 1 Axes>",
      "image/png": "[encoded data removed]"
     },
     "metadata": {
      "needs_background": "light"
     },
     "output_type": "display_data"
    }
   ],
   "source": [
    "surv = rsf.predict_cumulative_hazard_function(X_test_sel, return_array=True)\n",
    "\n",
    "for i, s in enumerate(surv):\n",
    "    plt.step(rsf.event_times_, s, where=\"post\", label=str(i))\n",
    "\n",
    "plt.ylabel(\"Cumulative hazard\")\n",
    "plt.xlabel(\"Time in days\")\n",
    "plt.legend()\n",
    "plt.grid(True)\n",
    "plt.show()"
   ],
   "metadata": {
    "collapsed": false,
    "pycharm": {
     "name": "#%%\n"
    }
   }
  },
  {
   "cell_type": "markdown",
   "source": [
    "## Generate Points for Explained Point\n",
    "First, we can calculate the largest distance among all points in the dataset."
   ],
   "metadata": {
    "collapsed": false,
    "pycharm": {
     "name": "#%% md\n"
    }
   }
  },
  {
   "cell_type": "code",
   "execution_count": 47,
   "outputs": [
    {
     "name": "stdout",
     "output_type": "stream",
     "text": [
      "        age    estrec  horTh=yes  menostat=Post  pnodes   progrec     tsize  \\\n",
      "0  0.728814  0.066981        1.0            1.0    0.00  0.142857  0.102564   \n",
      "1  0.745763  0.005660        0.0            1.0    0.00  0.002521  0.145299   \n",
      "2  0.525424  0.004717        0.0            1.0    0.00  0.003361  0.273504   \n",
      "3  0.661017  0.007547        1.0            1.0    0.12  0.005882  0.102564   \n",
      "4  0.593220  0.021698        0.0            1.0    0.00  0.011765  0.162393   \n",
      "\n",
      "   tgrade  \n",
      "0     0.5  \n",
      "1     0.5  \n",
      "2     1.0  \n",
      "3     0.0  \n",
      "4     0.5  \n",
      "1.7182713691836073\n"
     ]
    }
   ],
   "source": [
    "from sklearn.preprocessing import MinMaxScaler\n",
    "\n",
    "# create a scaler object\n",
    "scaler = MinMaxScaler()\n",
    "# fit and transform the data\n",
    "X_train_norm = pd.DataFrame(scaler.fit_transform(X_train), columns=X_train.columns)\n",
    "print(X_train_norm.head(5))\n",
    "\n",
    "# print(X_train_norm.shape[0]) number of samples\n",
    "d_max = 0\n",
    "for i in range(X_train_norm.shape[0]):\n",
    "    for j in range(i):\n",
    "        d_ij = sum((X_train_norm.iloc[i] - X_train_norm.iloc[0])**2)**0.5\n",
    "        d_max = d_ij if (d_ij >= d_max) else d_max\n",
    "\n",
    "print(d_max)"
   ],
   "metadata": {
    "collapsed": false,
    "pycharm": {
     "name": "#%%\n"
    }
   }
  },
  {
   "cell_type": "markdown",
   "source": [
    "Only numerical feature are considered for the local explanation, including `age`, `estrec`, `pnodes`,\n",
    "`progrec`, and `tsize`. For the local explanation, the perturbation technique is used. In accordance with the\n",
    "technique, *N* nearest points are generated in a local area around the explained example.\n",
    "These points are normally distributed with the center at point x and the standard deviation which is equal to\n",
    "10% of the largest distance between points of the corresponding studied dataset.\n",
    "\n",
    "Then we can calculate the largest distances between points for those features used for generating points by\n",
    "following normal distribution."
   ],
   "metadata": {
    "collapsed": false,
    "pycharm": {
     "name": "#%% md\n"
    }
   }
  },
  {
   "cell_type": "code",
   "execution_count": 53,
   "outputs": [
    {
     "name": "stdout",
     "output_type": "stream",
     "text": [
      "43.0 989.0 19.0 2040.0 105.0\n"
     ]
    }
   ],
   "source": [
    "d_max_age, d_max_estrec, d_max_pnodes, d_max_progrec, d_max_tsize = 0, 0, 0, 0, 0\n",
    "\n",
    "for i in range(X_train.shape[0]):\n",
    "    for j in range(i):\n",
    "        d_ij_age = abs(X_train.iloc[i].age - X_train.iloc[0].age)\n",
    "        d_max_age = d_ij_age if (d_ij_age >= d_max_age) else d_max_age\n",
    "\n",
    "        d_ij_estrec = abs(X_train.iloc[i].estrec - X_train.iloc[0].estrec)\n",
    "        d_max_estrec = d_ij_estrec if (d_ij_estrec >= d_max_estrec) else d_max_estrec\n",
    "\n",
    "        d_ij_pnodes = abs(X_train.iloc[i].pnodes - X_train.iloc[0].pnodes)\n",
    "        d_max_pnodes = d_ij_age if (d_ij_pnodes >= d_max_pnodes) else d_max_pnodes\n",
    "\n",
    "        d_ij_progrec = abs(X_train.iloc[i].progrec - X_train.iloc[0].progrec)\n",
    "        d_max_progrec = d_ij_progrec if (d_ij_progrec >= d_max_progrec) else d_max_progrec\n",
    "\n",
    "        d_ij_tsize = abs(X_train.iloc[i].tsize - X_train.iloc[0].tsize)\n",
    "        d_max_tsize = d_ij_tsize if (d_ij_tsize >= d_max_tsize) else d_max_tsize\n",
    "\n",
    "print(d_max_age, d_max_estrec, d_max_pnodes, d_max_progrec, d_max_tsize)"
   ],
   "metadata": {
    "collapsed": false,
    "pycharm": {
     "name": "#%%\n"
    }
   }
  },
  {
   "cell_type": "code",
   "execution_count": 61,
   "outputs": [
    {
     "name": "stdout",
     "output_type": "stream",
     "text": [
      "          age      estrec    pnodes     progrec      tsize  horTh=yes  \\\n",
      "0   72.268880  117.492192  0.739048  785.700828  24.953240        1.0   \n",
      "1   64.419362  161.807864  2.012683  224.092018  20.133998        1.0   \n",
      "2   65.969890   50.044772  0.202277  307.734276  -1.214812        1.0   \n",
      "3   59.126680   96.249980 -1.512105  472.287113   7.345135        1.0   \n",
      "4   67.214757  122.996228  0.400930  432.542114  11.570862        1.0   \n",
      "..        ...         ...       ...         ...        ...        ...   \n",
      "95  61.974288  170.223487  4.335221  231.121780  26.204586        1.0   \n",
      "96  61.659880  340.123637 -1.899805  634.826382   1.366513        1.0   \n",
      "97  59.337723  117.670718  1.281871  322.870829  15.925399        1.0   \n",
      "98  72.211220   41.897644  2.426261  239.128111   6.590773        1.0   \n",
      "99  59.974976  -54.650687  2.872623  160.687720  27.685314        1.0   \n",
      "\n",
      "    menostat=Post  tgrade  \n",
      "0             1.0     1.0  \n",
      "1             1.0     1.0  \n",
      "2             1.0     1.0  \n",
      "3             1.0     1.0  \n",
      "4             1.0     1.0  \n",
      "..            ...     ...  \n",
      "95            1.0     1.0  \n",
      "96            1.0     1.0  \n",
      "97            1.0     1.0  \n",
      "98            1.0     1.0  \n",
      "99            1.0     1.0  \n",
      "\n",
      "[100 rows x 8 columns]\n"
     ]
    }
   ],
   "source": [
    "def generate_normal(mean, std, N=100):\n",
    "    s = np.random.normal(mean, std, N)\n",
    "    return s\n",
    "\n",
    "x0 = X_train.iloc[0]\n",
    "gen_age = generate_normal(x0.age, d_max_age * 0.1)\n",
    "gen_estrec = generate_normal(x0.estrec, d_max_estrec * 0.1)\n",
    "gen_pnodes = generate_normal(x0.pnodes, d_max_pnodes * 0.1)\n",
    "gen_progrec = generate_normal(x0.progrec, d_max_progrec * 0.1)\n",
    "gen_tsize = generate_normal(x0.tsize, d_max_tsize * 0.1)\n",
    "\n",
    "df_input = pd.concat([pd.DataFrame(gen_age),\n",
    "                      pd.DataFrame(gen_estrec),\n",
    "                      pd.DataFrame(gen_pnodes),\n",
    "                      pd.DataFrame(gen_progrec),\n",
    "                      pd.DataFrame(gen_tsize)], axis=1)\n",
    "df_input.columns = ['age', 'estrec', 'pnodes', 'progrec', 'tsize']\n",
    "\n",
    "df_input['horTh=yes'] = x0['horTh=yes']\n",
    "df_input['menostat=Post'] = x0['menostat=Post']\n",
    "df_input['tgrade'] = x0['tgrade']\n",
    "print(df_input)"
   ],
   "metadata": {
    "collapsed": false,
    "pycharm": {
     "name": "#%%\n"
    }
   }
  }
 ],
 "metadata": {
  "kernelspec": {
   "display_name": "Python 3",
   "language": "python",
   "name": "python3"
  },
  "language_info": {
   "codemirror_mode": {
    "name": "ipython",
    "version": 2
   },
   "file_extension": ".py",
   "mimetype": "text/x-python",
   "name": "python",
   "nbconvert_exporter": "python",
   "pygments_lexer": "ipython2",
   "version": "2.7.6"
  }
 },
 "nbformat": 4,
 "nbformat_minor": 0
}